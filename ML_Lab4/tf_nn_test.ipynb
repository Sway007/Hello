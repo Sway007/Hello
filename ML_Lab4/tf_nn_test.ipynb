{
 "cells": [
  {
   "cell_type": "code",
   "execution_count": null,
   "metadata": {},
   "outputs": [],
   "source": [
    "from tensorflow.examples.tutorials.mnist import input_data\n",
    "mnist = input_data.read_data_sets(\"MNIST_data\", one_hot=True)\n",
    "print(mnist)"
   ]
  },
  {
   "cell_type": "code",
   "execution_count": null,
   "metadata": {
    "collapsed": true
   },
   "outputs": [],
   "source": [
    "import matplotlib.pyplot as plt\n",
    "\n",
    "img = mnist.train.images[5].reshape(28,28)\n",
    "plt.imshow(img)\n",
    "plt.show()\n",
    "\n",
    "# print(img)\n",
    "\n",
    "batch_xs, batch_ys = mnist.train.next_batch(10)\n",
    "print(batch_ys)"
   ]
  },
  {
   "cell_type": "code",
   "execution_count": null,
   "metadata": {
    "collapsed": true
   },
   "outputs": [],
   "source": [
    "import tensorflow as tf\n",
    "x = tf.placeholder(tf.float32, [None, 784])\n",
    "W = tf.Variable(tf.zeros([784, 10]))\n",
    "b = tf.Variable(tf.zeros([10]))\n",
    "# y = tf.nn.softmax(tf.matmul(x, W) + b)\n",
    "y = tf.sigmoid(tf.matmul(x, W) + b)\n",
    "\n",
    "y_ = tf.placeholder(tf.float32, [None, 10])\n",
    "# cross_entropy = tf.reduce_mean(-tf.reduce_sum(y_ * tf.log(y), reduction_indices=[1]))\n",
    "cross_entropy = tf.losses.mean_squared_error(y, y_)\n",
    "train_step = tf.train.GradientDescentOptimizer(0.5).minimize(cross_entropy)\n",
    "\n",
    "init = tf.global_variables_initializer()\n",
    "sess = tf.Session()\n",
    "sess.run(init)\n",
    "\n",
    "for i in range(1000):\n",
    "  batch_xs, batch_ys = mnist.train.next_batch(100)\n",
    "  sess.run(train_step, feed_dict={x: batch_xs, y_: batch_ys})\n",
    "\n",
    "correct_prediction = tf.equal(tf.argmax(y,1), tf.argmax(y_,1))\n",
    "accuracy = tf.reduce_mean(tf.cast(correct_prediction, tf.float32))\n",
    "print(sess.run(accuracy, feed_dict={x: mnist.test.images, y_: mnist.test.labels}))\n"
   ]
  },
  {
   "cell_type": "code",
   "execution_count": 61,
   "metadata": {},
   "outputs": [
    {
     "name": "stdout",
     "output_type": "stream",
     "text": [
      "[   8   33   38 ..., 9985 9986 9998]\n"
     ]
    },
    {
     "data": {
      "image/png": "[encoded data removed]",
      "text/plain": [
       "<matplotlib.figure.Figure at 0x7f43c2d65048>"
      ]
     },
     "metadata": {},
     "output_type": "display_data"
    },
    {
     "name": "stdout",
     "output_type": "stream",
     "text": [
      "[ 0.  0.  0.  0.  0.  0.  0.  0.  1.  0.]\n",
      "correct:  8\n",
      "[  2.39896476e-01   8.30338613e-05   2.06206813e-01   7.88911656e-02\n",
      "   7.89353903e-03   6.93130568e-02   2.35678077e-01   1.22774218e-03\n",
      "   1.12952232e-01   4.78578731e-02]\n",
      "wrong:  0\n"
     ]
    }
   ],
   "source": [
    "import numpy as np\n",
    "\n",
    "acc = sess.run(correct_prediction, feed_dict={x: mnist.test.images, y_: mnist.test.labels})\n",
    "ind, = np.where(acc == False)\n",
    "\n",
    "print(ind)\n",
    "\n",
    "failedImgs = mnist.test.images[ind]\n",
    "testi = 55\n",
    "theFaildeImg = failedImgs[testi]\n",
    "plt.imshow(theFaildeImg.reshape(28,28))\n",
    "plt.show()\n",
    "print(mnist.test.labels[ind[testi]])\n",
    "correct = np.argmax(mnist.test.labels[ind[testi]])\n",
    "print('correct: ',correct)\n",
    "\n",
    "wrong = y.eval({x: mnist.test.images, y_: mnist.test.labels}, sess)[ind][testi]\n",
    "print(wrong)\n",
    "print('wrong: ', np.argmax(wrong))"
   ]
  },
  {
   "cell_type": "code",
   "execution_count": 31,
   "metadata": {},
   "outputs": [
    {
     "data": {
      "text/plain": [
       "array([[ 0.40627036,  0.91059231,  0.32408481],\n",
       "       [ 0.23119308,  0.74942226,  0.95689065],\n",
       "       [ 0.16994671,  0.08174588,  0.92780549]])"
      ]
     },
     "execution_count": 31,
     "metadata": {},
     "output_type": "execute_result"
    }
   ],
   "source": [
    "a = np.random.rand(3,3, 3)\n",
    "a[2][:]"
   ]
  }
 ],
 "metadata": {
  "kernelspec": {
   "display_name": "Python 3",
   "language": "python",
   "name": "python3"
  },
  "language_info": {
   "codemirror_mode": {
    "name": "ipython",
    "version": 3
   },
   "file_extension": ".py",
   "mimetype": "text/x-python",
   "name": "python",
   "nbconvert_exporter": "python",
   "pygments_lexer": "ipython3",
   "version": "3.6.2"
  }
 },
 "nbformat": 4,
 "nbformat_minor": 2
}
