{
 "cells": [
  {
   "cell_type": "markdown",
   "metadata": {},
   "source": [
    "## 2.25\n",
    "\n",
    "A: According to the results of Section 2.3.2, after marginalize $x_c$,  the distribution $p(x_a, x_b)$ obtained is again a Gussian distribution with mean and covariance given by\n",
    "\n",
    "$$\\mu=\n",
    " \\begin{pmatrix}\n",
    "   \\mu_a \\\\\n",
    "   \\mu_b\n",
    "  \\end{pmatrix}, \\quad\n",
    "  \\Sigma =\n",
    "  \\begin{pmatrix}\n",
    "  \\Sigma_{aa} & \\Sigma_{ab} \\\\\n",
    "  \\Sigma_{ba} & \\Sigma_{bb}\n",
    "  \\end{pmatrix}\n",
    "$$\n",
    "\n",
    "From Section 2.3.1 the distribution $p(x_a|x_b)$ is also Gaussian with mean and covariance given by \n",
    "\n",
    "$$\\begin{align}\\nonumber\n",
    "\\mu_{a|b} &= \\mu_a + \\Sigma_{ab}\\Sigma_{bb}^{-1}(x_b - \\mu_b)\\\\\n",
    "\\nonumber\n",
    "\\Sigma_{a|b} &= \\Sigma_{aa} - \\Sigma_{ab}\\Sigma_{bb}^{-1}\\Sigma_{ba}\n",
    "\\end{align}\n",
    "$$"
   ]
  },
  {
   "cell_type": "markdown",
   "metadata": {},
   "source": [
    "## 2.27\n",
    "\n",
    "Given y = x + z, we can easily obtain that $\\mathbb{E}(y)=\\mathbb{E}(x)+\\mathbb{E}(z)$. For the covariance we have\n",
    "$$\n",
    "\\begin{align}\\nonumber\n",
    "cov(y,y) &= cov(x+z, x+z)\\\\\n",
    "\\nonumber\n",
    "&= D(x+z) = Dx + Dz + 2cov(x,z)\n",
    "\\end{align}\n",
    "$$\n",
    "cause x and z are independent, so $cov(x,z)=0$\n",
    "then, we have\n",
    "$$\n",
    "cov(y,y) = Dx + Dz = cov(x,x) + cov(z,z)\n",
    "$$"
   ]
  },
  {
   "cell_type": "markdown",
   "metadata": {},
   "source": [
    "## 2.28\n",
    "\n",
    "From fomular 2.105, 2.105 we can infer that marginal distribution $p(x)$ satisfy\n",
    "$$Ex = \\mu, Dx = \\Lambda^{-1}$$\n",
    "So we have $p(x) = \\mathcal{N}(\\mu, \\Lambda^{-1})$\n",
    "\n",
    "Now consider the conditional distribution $p(y|x)$, Applying the result (2.81) for the conditional mean we obtain\n",
    "$$\\mu_{y|x} = A\\mu + b + A\\Lambda^{-1}\\Lambda(x-\\mu) = Ax + b$$\n",
    "\n",
    "Similarly applying the result (2.82) for the covariance of the conditional distribution we have\n",
    "$$cov(y|x) = L^{-1} + A\\Lambda^{-1}A^T - A\\Lambda^{-1}\\Lambda\\Lambda^{-1}A^T = L^{-1}$$"
   ]
  },
  {
   "cell_type": "markdown",
   "metadata": {},
   "source": [
    "## 2.31\n",
    "\n",
    "Since y = x + z we can write the conditional distribution of y given x in the form\n",
    "p(y|x) = N (y|μ z + x, Σ z ). This gives a decomposition of the joint distribution\n",
    "of x and y in the form p(x, y) = p(y|x)p(x) where p(x) = N (x|μ x , Σ x ). This\n",
    "therefore takes the form of (2.99) and (2.100) in which we can identify μ → μ x ,\n",
    "Λ − 1 → Σ x , A → I, b → μ z and L − 1 → Σ z . We can now obtain the marginal\n",
    "distribution p(y) by making use of the result (2.115) from which we obtain p(y) =\n",
    "N (y|μ x + μ z , Σ z + Σ x )."
   ]
  },
  {
   "cell_type": "markdown",
   "metadata": {},
   "source": [
    "## 2.36\n",
    "\n",
    "$$\\nonumber\\begin{align}\n",
    "\\sigma^2_{ML}(N) &= \\frac1N\\sum_{n=1}^N(x_n-\\mu)\\\\\\nonumber\n",
    "&= \\frac1N\\sum_{n=1}^{N-1}(x_n-\\mu) + \\frac{(x_N - \\mu)^2}{N}\\\\\\nonumber\n",
    "&= \\frac{N-1}{N}\\sigma^2_{ML}(N-1) + \\frac{(x_N - \\mu)^2}{N}\\\\\\nonumber\n",
    "&= \\sigma_{ML}^2(N-1) - \\frac1N \\sigma^2_{ML}(N-1) + \\frac{(x_N - \\mu)^2}{N}\\\\\\nonumber\n",
    "&= \\sigma^2_{ML}(N-1) + \\frac1N{(x_N-\\mu)^2 - \\sigma^2_{ML}(N-1)}\n",
    "\\end{align}\n",
    "$$"
   ]
  },
  {
   "cell_type": "markdown",
   "metadata": {},
   "source": [
    "## 2.37\n",
    "\n",
    "$$\\begin{align}\\nonumber\n",
    "\\Sigma^N_{ML} &= \\frac1N\\sum _{n=1}^N(x_n-\\mu)(x_n-\\mu)^T\\\\\\nonumber\n",
    "&= \\frac1N\\sum _{n=1}^{N-1}(x_n-\\mu)(x_n-\\mu)^T \\\\\\nonumber\n",
    "&\\quad + \\frac1N(x_N-\\mu)(x_N-\\mu)^T\\\\\\nonumber\n",
    "&= \\frac{N-1}{N}\\Sigma_{ML}^{N-1} + \\frac1N(x_N-\\mu)(x_N-\\mu)^T\n",
    "\\\\\\nonumber\n",
    "&= \\Sigma_{ML}^{N-1} + \\frac1N \\lgroup(x_N-\\mu)(x_N-\\mu)^T - \\Sigma_{ML}^{N-1}\\rgroup\n",
    "\\end{align}\n",
    "$$"
   ]
  },
  {
   "cell_type": "markdown",
   "metadata": {},
   "source": [
    "## 2.39\n",
    "\n",
    "$$\n",
    "\\begin{align}\\nonumber\n",
    "p(\\mu|\\mu_N,\\sigma^2_N) &= p(\\mu|\\mu_{N-1}, \\sigma^2_{N-1})p(x_N|\\mu, \\sigma^2)\\\\\\nonumber\n",
    "&= \\mathcal{N}(\\mu|\\mu_{N-1}, \\sigma^2_{N-1})\\mathcal{N}(x_N|\\mu, \\sigma^2)\\\\\\nonumber\n",
    "&\\propto exp \\left\\{ -\\frac12 \\left(\n",
    "\\frac{\\mu_{N-1}^2 - 2\\mu\\mu_{N-1} + \\mu^2}{\\mu^2_{N-1}} + \n",
    "\\frac{x_N^2 - 2x_N\\mu + \\mu^2}{\\sigma^2} \\right)\n",
    "\\right\\}\\\\\\nonumber\n",
    "&= exp \\left\\{\n",
    "-\\frac12 \\frac{(\\sigma_{N-1}^2 + \\sigma^2)\\mu^2 - 2(\\sigma^2\\mu_{N-1} + \\sigma^2_{N-1}x_N)\\mu}\n",
    "{\\sigma_{N-1}^2\\sigma^2}\n",
    "\\right\\} + C\n",
    "\\end{align}\n",
    "$$\n",
    "\n",
    "where $C$ accounts for all the remaining terms that are independent of $\\mu$"
   ]
  },
  {
   "cell_type": "markdown",
   "metadata": {},
   "source": [
    "## 2.40\n",
    "\n",
    "The posterior distribution is proportional to the product of the prior and the likelihood function\n",
    "$$P(\\mu|X) \\propto p(\\mu) \\prod_{n=1}^Np(x_n|\\mu,\\Sigma)$$\n",
    "\n",
    "Thus the posterior is proportional to an exponential of a quadratic form in μ given by\n",
    "$$-\\frac12\\mu^T(\\Sigma^{-1}_0 + N\\Sigma^{-1})\\mu + \\mu^T(\\Sigma^{-1}\\mu_0 + \\Sigma^{-1}\\sum_{n=1}^Nx_n) + const$$\n",
    "\n",
    "where ‘const.’ denotes terms independent of μ. Using the discussion following (2.71) we see that the mean and covariance of the posterior distribution are given by\n",
    "$$\\mu_N = (\\Sigma_0^(-1) + N\\Sigma^(-1))^{-1}(\\Sigma_0^(-1)\\mu_0 + \\Sigma^{-1}N\\mu_{ML})$$"
   ]
  }
 ],
 "metadata": {
  "kernelspec": {
   "display_name": "Python 3",
   "language": "python",
   "name": "python3"
  },
  "language_info": {
   "codemirror_mode": {
    "name": "ipython",
    "version": 3
   },
   "file_extension": ".py",
   "mimetype": "text/x-python",
   "name": "python",
   "nbconvert_exporter": "python",
   "pygments_lexer": "ipython3",
   "version": "3.6.2"
  }
 },
 "nbformat": 4,
 "nbformat_minor": 2
}
