{
 "cells": [
  {
   "cell_type": "markdown",
   "metadata": {},
   "source": [
    "## 2.13"
   ]
  },
  {
   "cell_type": "markdown",
   "metadata": {},
   "source": [
    "## 2.25\n",
    "\n",
    "A: According to the results of Section 2.3.2, after marginalize $x_c$,  the distribution $p(x_a, x_b)$ obtained is again a Gussian distribution with mean and covariance given by\n",
    "\n",
    "$$\\mu=\n",
    " \\begin{pmatrix}\n",
    "   \\mu_a \\\\\n",
    "   \\mu_b\n",
    "  \\end{pmatrix}, \\quad\n",
    "  \\Sigma =\n",
    "  \\begin{pmatrix}\n",
    "  \\Sigma_{aa} & \\Sigma_{ab} \\\\\n",
    "  \\Sigma_{ba} & \\Sigma_{bb}\n",
    "  \\end{pmatrix}\n",
    "$$\n",
    "\n",
    "From Section 2.3.1 the distribution $p(x_a|x_b)$ is also Gaussian with mean and covariance given by \n",
    "\n",
    "$$\\begin{align}\\nonumber\n",
    "\\mu_{a|b} &= \\mu_a + \\Sigma_{ab}\\Sigma_{bb}^{-1}(x_b - \\mu_b)\\\\\n",
    "\\nonumber\n",
    "\\Sigma_{a|b} &= \\Sigma_{aa} - \\Sigma_{ab}\\Sigma_{bb}^{-1}\\Sigma_{ba}\n",
    "\\end{align}\n",
    "$$"
   ]
  },
  {
   "cell_type": "markdown",
   "metadata": {},
   "source": [
    "## 2.27\n",
    "\n",
    "Given y = x + z, we can easily obtain that $\\mathbb{E}(y)=\\mathbb{E}(x)+\\mathbb{E}(z)$. For the covariance we have\n",
    "$$\n",
    "\\begin{align}\\nonumber\n",
    "cov(y,y) &= cov(x+z, x+z)\\\\\n",
    "\\nonumber\n",
    "&= D(x+z) = Dx + Dz + 2cov(x,z)\n",
    "\\end{align}\n",
    "$$\n",
    "cause x and z are independent, so $cov(x,z)=0$\n",
    "then, we have\n",
    "$$\n",
    "cov(y,y) = Dx + Dz = cov(x,x) + cov(z,z)\n",
    "$$"
   ]
  },
  {
   "cell_type": "markdown",
   "metadata": {},
   "source": [
    "## 2.28\n",
    "\n"
   ]
  },
  {
   "cell_type": "markdown",
   "metadata": {},
   "source": [
    "## 2.31"
   ]
  },
  {
   "cell_type": "markdown",
   "metadata": {},
   "source": [
    "## 2.36\n"
   ]
  },
  {
   "cell_type": "markdown",
   "metadata": {},
   "source": [
    "## 2.37"
   ]
  },
  {
   "cell_type": "markdown",
   "metadata": {},
   "source": [
    "## 2.39"
   ]
  },
  {
   "cell_type": "markdown",
   "metadata": {},
   "source": [
    "## 2.40"
   ]
  }
 ],
 "metadata": {
  "kernelspec": {
   "display_name": "Python 3",
   "language": "python",
   "name": "python3"
  },
  "language_info": {
   "codemirror_mode": {
    "name": "ipython",
    "version": 3
   },
   "file_extension": ".py",
   "mimetype": "text/x-python",
   "name": "python",
   "nbconvert_exporter": "python",
   "pygments_lexer": "ipython3",
   "version": "3.6.2"
  }
 },
 "nbformat": 4,
 "nbformat_minor": 2
}
