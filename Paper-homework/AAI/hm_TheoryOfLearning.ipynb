{
 "cells": [
  {
   "cell_type": "markdown",
   "metadata": {},
   "source": [
    "## Q: Explain the reasoning behind maximizing the objective\n",
    "\n",
    "A: cost function:\n",
    "$$l(\\beta)=\\sum_i (y_i\\log p(x_i,\\beta) + (1-y_i)(1-\\log p(x_i, \\beta)))$$\n",
    "\n",
    "we can explain the cost funtion from the point of Cross Entropy:\n",
    "\n",
    "\n",
    "* Cross Entropy\n",
    "\n",
    "we use a sigmoid model to approximate the classification:\n",
    "$$\n",
    "\\begin{align}\n",
    "P(G(x_i)=0\\ \\bracevert 1,\\beta)&=sigmoid(\\beta^Tx) \\tag{1}\\\\\n",
    "P(G(x_0)=1\\ \\bracevert x,\\beta)&=1-P(G(x_0)=1\\bracevert x,\\beta)=1-sigmoid(\\beta^Tx) \\tag{2}\n",
    "\\end{align}\n",
    "$$\n",
    "where $sigmod(t)= \\frac{e^t}{1+e^t}$\n",
    "\n",
    "we denote the true classification of $x_i$ as $C_i(1\\ or\\ 0)$  \n",
    "the true model:\n",
    "$$\n",
    "\\begin{align}\n",
    "P(y_i==C_i)=1 \\tag{3}\\\\\n",
    "P(y_i!=C_i)=0 \\tag{4}\n",
    "\\end{align}$$\n",
    "\n",
    "then the cross entropy between the sigmoid model and the true model can be represented as：\n",
    "$$\\sum_i P(y_i)\\centerdot \\log\\frac1{P(G(x_i))}$$\n",
    "\n",
    "according to formulae (1, 2, 3, 4), the cross entropy can be shorten as $-l(\\beta)$  \n",
    "we hope our sigmoid model can perfectly simulte the true model, so we hope _**Kullback–Leibler divergence**_ or the cross entropy as small as possible, namely we try to maximize the object $l(\\beta)$."
   ]
  },
  {
   "cell_type": "markdown",
   "metadata": {},
   "source": [
    "# Q: Determine whether the objective is concave\n",
    "\n",
    "A: the objective is concave, cause we can proof the second derivative of log sigmoid function is greater than 0, and the objective is the negative combination of log sigmoid function, so the objective is still concave.  \n",
    "besides, we can depict the log sigmoid, and its concavity can easily inferred on the drawing"
   ]
  },
  {
   "cell_type": "code",
   "execution_count": 18,
   "metadata": {},
   "outputs": [
    {
     "data": {
      "image/png": "[encoded data removed]",
      "text/plain": [
       "<matplotlib.figure.Figure at 0x7fc501defe48>"
      ]
     },
     "metadata": {},
     "output_type": "display_data"
    }
   ],
   "source": [
    "import matplotlib.pyplot as plt\n",
    "import numpy as np\n",
    "\n",
    "def sigmoid(x):\n",
    "    \n",
    "    return np.exp(x) / (np.exp(x) + 1)\n",
    "\n",
    "fig = plt.figure()\n",
    "ax = fig.add_subplot(121)\n",
    "x = np.linspace(-10, 10, 100)\n",
    "y = sigmoid(x)\n",
    "\n",
    "curvs = ax.plot(x, y)\n",
    "dashLines = ax.plot(x, np.ones(x.shape), 'k--',\n",
    "                    x, np.zeros(x.shape), 'k--')\n",
    "ax.vlines(0, 0, 1, color='r')\n",
    "\n",
    "ax.set_title('Sigmoid funtion')\n",
    "\n",
    "ax2 = fig.add_subplot(122)\n",
    "ax2.plot(x, np.log(y))\n",
    "ax2.set_title('log sigmoid function')\n",
    "\n",
    "plt.show()"
   ]
  },
  {
   "cell_type": "markdown",
   "metadata": {},
   "source": [
    "# What does it mean for (the potential) uniqueness of the problem?\n",
    "\n",
    "A: the uniqueness of the problem means that the objective function is a strictly concave function and there is a global optimal in this problem"
   ]
  }
 ],
 "metadata": {
  "kernelspec": {
   "display_name": "Python 3",
   "language": "python",
   "name": "python3"
  },
  "language_info": {
   "codemirror_mode": {
    "name": "ipython",
    "version": 3
   },
   "file_extension": ".py",
   "mimetype": "text/x-python",
   "name": "python",
   "nbconvert_exporter": "python",
   "pygments_lexer": "ipython3",
   "version": "3.6.2"
  }
 },
 "nbformat": 4,
 "nbformat_minor": 2
}
