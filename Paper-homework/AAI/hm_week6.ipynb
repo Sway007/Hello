{
 "cells": [
  {
   "cell_type": "markdown",
   "metadata": {},
   "source": [
    "* <font size=\"4\"> Question: Derive the closed-form solution of MLR?</font>\n",
    "\n",
    "From the loss funciton definition we have\n",
    "$$\\mathcal L(w) = \\frac12(\\sum_{n=1}^N(y^n - w^Tx^n)^2)$$\n",
    "\n",
    "it can be represented in matrix form as:\n",
    "$$\n",
    "\\begin{align}\\nonumber\n",
    "\\mathcal L(w) &= \\Arrowvert Y - Xw \\Arrowvert^2\\\\\n",
    "\\nonumber\n",
    "&= (Y - Xw)^T(Y-Xw) \\\\\n",
    "\\nonumber\n",
    "&= Y^TY - Y^TXw - w^TX^TY + w^TX^TXw\n",
    "\\end{align}\n",
    "$$\n",
    "\n",
    "according to matrix calculus we have:\n",
    "$$\\begin{align}\n",
    "\\frac {dx^Ta}{dx} = \\frac{da^Tx}{dx} = a \\tag{1} \\\\\n",
    "\\frac{dx^TAx}{dx} = Ax + A^Tx \\tag{2}\n",
    "\\end{align}\n",
    "$$\n",
    "\n",
    "Cause the solution **$w$** satisfy $\\frac{d}{dw}\\mathcal L(w)=0$ and according to (1) and (2), we have\n",
    "$$\n",
    "\\frac{d}{dw}\\mathcal L(w) = -2X^TY + 2X^TXw = 0 \\\\\n",
    "X^TXw = X^TY \\\\\n",
    "w = (X^TX)^{-1}X^TY\n",
    "$$"
   ]
  }
 ],
 "metadata": {
  "kernelspec": {
   "display_name": "Python 3",
   "language": "python",
   "name": "python3"
  },
  "language_info": {
   "codemirror_mode": {
    "name": "ipython",
    "version": 3
   },
   "file_extension": ".py",
   "mimetype": "text/x-python",
   "name": "python",
   "nbconvert_exporter": "python",
   "pygments_lexer": "ipython3",
   "version": "3.6.2"
  }
 },
 "nbformat": 4,
 "nbformat_minor": 2
}
