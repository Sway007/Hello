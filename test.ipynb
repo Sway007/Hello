{
 "cells": [
  {
   "cell_type": "code",
   "execution_count": 14,
   "metadata": {},
   "outputs": [
    {
     "data": {
      "text/plain": [
       "matrix([[ 0.11477287,  0.12635672,  0.15023277],\n",
       "        [ 0.12635672,  0.13131126,  0.17188081],\n",
       "        [ 0.15023277,  0.17188081,  0.09840671]])"
      ]
     },
     "execution_count": 14,
     "metadata": {},
     "output_type": "execute_result"
    }
   ],
   "source": [
    "import numpy as np\n",
    "\n",
    "def getGaussianDisPro(varX, mu, sigma):\n",
    "    '''\n",
    "    :param varX: numpy.array\n",
    "    :param mu: the mean value argument in Gaussian distribution, \\\n",
    "            and mu has the same shape as varX\n",
    "    :param sigma: the co-variance matrix\n",
    "    :return: the probability of varX in distribution\n",
    "    '''\n",
    "    _, n = np.mat(varX).shape\n",
    "    A = np.power(2 * np.pi, n / 2.) * np.power( np.linalg.det(np.mat(sigma)), 0.5 )\n",
    "    A = 1 / A\n",
    "    B = np.exp( -0.5 * np.mat(varX - mu) * np.mat(sigma) *\n",
    "                np.mat(varX - mu).I )\n",
    "    return A * B\n",
    "\n",
    "x = np.array([[1,2],\n",
    "              [1,1],\n",
    "              [-1,2]])\n",
    "mu = np.array([0,0])\n",
    "sigma = np.eye(2)\n",
    "\n",
    "getGaussianDisPro(x, mu, sigma)"
   ]
  },
  {
   "cell_type": "code",
   "execution_count": 15,
   "metadata": {},
   "outputs": [
    {
     "data": {
      "text/plain": [
       "matrix([[ 0.09653235]])"
      ]
     },
     "execution_count": 15,
     "metadata": {},
     "output_type": "execute_result"
    }
   ],
   "source": [
    "getGaussianDisPro([1,2], mu, sigma)"
   ]
  },
  {
   "cell_type": "code",
   "execution_count": null,
   "metadata": {
    "collapsed": true
   },
   "outputs": [],
   "source": []
  }
 ],
 "metadata": {
  "kernelspec": {
   "display_name": "Python 3",
   "language": "python",
   "name": "python3"
  },
  "language_info": {
   "codemirror_mode": {
    "name": "ipython",
    "version": 3
   },
   "file_extension": ".py",
   "mimetype": "text/x-python",
   "name": "python",
   "nbconvert_exporter": "python",
   "pygments_lexer": "ipython3",
   "version": "3.6.2"
  }
 },
 "nbformat": 4,
 "nbformat_minor": 2
}
