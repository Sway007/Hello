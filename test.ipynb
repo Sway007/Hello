{
 "cells": [
  {
   "cell_type": "code",
   "execution_count": 15,
   "metadata": {},
   "outputs": [
    {
     "data": {
      "text/plain": [
       "matrix([[ 0.01306423,  0.05854983,  0.01306423]])"
      ]
     },
     "execution_count": 15,
     "metadata": {},
     "output_type": "execute_result"
    }
   ],
   "source": [
    "import numpy as np\n",
    "\n",
    "def getGaussianDisPro(varX, mu, sigma):\n",
    "    '''\n",
    "    :param varX: numpy.array\n",
    "    :param mu: the mean value argument in Gaussian distribution, \\\n",
    "            and mu has the same shape as varX\n",
    "    :param sigma: the co-variance matrix\n",
    "    :return: the probability of varX in distribution\n",
    "    '''\n",
    "    _, n = np.mat(varX).shape\n",
    "    A = np.power(2 * np.pi, n / 2.) * np.power( np.linalg.det(np.mat(sigma)), 0.5 )\n",
    "    A = 1 / A\n",
    "    B = np.exp( -0.5 * np.mat(varX - mu) * np.mat(sigma).I *\n",
    "                np.mat(varX - mu).T )\n",
    "    return A * B\n",
    "\n",
    "x = np.array([[1,2],\n",
    "              [1,1],\n",
    "              [-1,2]])\n",
    "mu = np.array([0,0])\n",
    "sigma = np.eye(2)\n",
    "\n",
    "np.apply_along_axis(getGaussianDisPro, 1, x, mu, sigma)"
   ]
  },
  {
   "cell_type": "code",
   "execution_count": 17,
   "metadata": {},
   "outputs": [
    {
     "name": "stdout",
     "output_type": "stream",
     "text": [
      "[[ 0.01306423]]\n",
      "[[ 0.05854983]]\n"
     ]
    },
    {
     "data": {
      "text/plain": [
       "matrix([[ 0.01306423]])"
      ]
     },
     "execution_count": 17,
     "metadata": {},
     "output_type": "execute_result"
    }
   ],
   "source": [
    "print(getGaussianDisPro(np.array([1, 2]), mu, sigma))\n",
    "print(getGaussianDisPro(np.array([1, 1]), mu, sigma))\n",
    "getGaussianDisPro(np.array([-1, 2]), mu, sigma)"
   ]
  },
  {
   "cell_type": "code",
   "execution_count": 43,
   "metadata": {},
   "outputs": [
    {
     "name": "stdout",
     "output_type": "stream",
     "text": [
      "[[1 1]\n",
      " [1 0]\n",
      " [2 2]]\n",
      "--------------------\n"
     ]
    }
   ],
   "source": [
    "aa = np.mat(np.random.randint(3, size=(3, 2)))\n",
    "print(aa)"
   ]
  },
  {
   "cell_type": "code",
   "execution_count": 49,
   "metadata": {},
   "outputs": [
    {
     "data": {
      "text/plain": [
       "matrix([[2],\n",
       "        [1],\n",
       "        [4]])"
      ]
     },
     "execution_count": 49,
     "metadata": {},
     "output_type": "execute_result"
    }
   ],
   "source": [
    "np.sum(aa, axis=1)"
   ]
  },
  {
   "cell_type": "code",
   "execution_count": 56,
   "metadata": {},
   "outputs": [
    {
     "name": "stdout",
     "output_type": "stream",
     "text": [
      "[[ 0.33275238  0.43995737  0.56611994  0.68943736  0.66477394]]\n"
     ]
    }
   ],
   "source": [
    "ab = np.random.rand(1, 5)\n",
    "print(ab)"
   ]
  },
  {
   "cell_type": "code",
   "execution_count": 57,
   "metadata": {},
   "outputs": [
    {
     "data": {
      "text/plain": [
       "array([[ 0.11072415,  0.19356249,  0.32049179,  0.47532388,  0.44192439]])"
      ]
     },
     "execution_count": 57,
     "metadata": {},
     "output_type": "execute_result"
    }
   ],
   "source": [
    "ab ** 2"
   ]
  },
  {
   "cell_type": "code",
   "execution_count": 61,
   "metadata": {},
   "outputs": [
    {
     "data": {
      "text/plain": [
       "array([[ 0.33275238,  0.43995737,  0.56611994,  0.68943736,  0.66477394]])"
      ]
     },
     "execution_count": 61,
     "metadata": {},
     "output_type": "execute_result"
    }
   ],
   "source": [
    "ab"
   ]
  },
  {
   "cell_type": "code",
   "execution_count": 71,
   "metadata": {},
   "outputs": [
    {
     "data": {
      "text/plain": [
       "array([ 2.1,  2.2])"
      ]
     },
     "execution_count": 71,
     "metadata": {},
     "output_type": "execute_result"
    }
   ],
   "source": [
    "def f(x):\n",
    "    return x+1\n",
    "\n",
    "np.apply_along_axis(f, 0, [1.1, 1.2])"
   ]
  },
  {
   "cell_type": "code",
   "execution_count": 83,
   "metadata": {},
   "outputs": [
    {
     "name": "stdout",
     "output_type": "stream",
     "text": [
      "[[7 9 8]\n",
      " [4 7 1]\n",
      " [4 7 0]]\n",
      "[[2 3 1]\n",
      " [6 2 6]\n",
      " [3 7 5]]\n"
     ]
    }
   ],
   "source": [
    "ma = np.mat(np.random.randint(10, size=(3,3)))\n",
    "mb = np.mat(np.random.randint(10, size=(3,3)))\n",
    "print(ma)\n",
    "print(mb)"
   ]
  },
  {
   "cell_type": "code",
   "execution_count": 84,
   "metadata": {},
   "outputs": [
    {
     "name": "stdout",
     "output_type": "stream",
     "text": [
      "[[ 9 12  9]\n",
      " [10  9  7]\n",
      " [ 7 14  5]]\n"
     ]
    }
   ],
   "source": [
    "print(ma + mb)"
   ]
  },
  {
   "cell_type": "code",
   "execution_count": 87,
   "metadata": {},
   "outputs": [
    {
     "data": {
      "text/plain": [
       "matrix([[ 9, 12,  9],\n",
       "        [10,  9,  7],\n",
       "        [ 7, 14,  5]])"
      ]
     },
     "execution_count": 87,
     "metadata": {},
     "output_type": "execute_result"
    }
   ],
   "source": [
    "np.add(ma, mb)"
   ]
  },
  {
   "cell_type": "code",
   "execution_count": null,
   "metadata": {
    "collapsed": true
   },
   "outputs": [],
   "source": []
  }
 ],
 "metadata": {
  "kernelspec": {
   "display_name": "Python 3",
   "language": "python",
   "name": "python3"
  },
  "language_info": {
   "codemirror_mode": {
    "name": "ipython",
    "version": 3
   },
   "file_extension": ".py",
   "mimetype": "text/x-python",
   "name": "python",
   "nbconvert_exporter": "python",
   "pygments_lexer": "ipython3",
   "version": "3.6.2"
  }
 },
 "nbformat": 4,
 "nbformat_minor": 2
}
